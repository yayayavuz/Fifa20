{
 "cells": [
  {
   "cell_type": "markdown",
   "metadata": {},
   "source": [
    "# Predicting Value of a Football Player \n",
    "\n",
    ">\"Why couldn't you beat a richer club? I' ve never seen a bag of money score a goal.\" Johann Cruyff\n",
    "\n",
    "It is a famous quotation from Johann Cruyff, one of the legends in football history. He may refer to this as best tactics win the game not the expensive players and he is mostly right. However we have witnessed lately that suitcases of money makes some clubs successful.\n",
    "\n",
    "Growing football industry can cause clubs spend higher than what they possibly win. UEFA brought out Financial Fair Play Regulations to audit the expenses of clubs an prevent them to collapse financially. To follow the rules in the regulation, valuation of a player becomes crucial either to sell or to buy.\n",
    "\n",
    "So what makes a footballer expensive? To give an answer to that, I' ve decided to predict the value of the football players using Fifa20 football video game dataset, provided in here."
   ]
  },
  {
   "cell_type": "code",
   "execution_count": null,
   "metadata": {},
   "outputs": [],
   "source": [
    "import pandas as pd\n",
    "import numpy as np\n",
    "import matplotlib.pyplot as plt\n",
    "from datetime import datetime\n",
    "pd.set_option('float_format', '{:f}'.format)\n",
    "import xgboost\n",
    "from sklearn.linear_model import LinearRegression, LogisticRegression\n",
    "from sklearn.metrics import mean_squared_error, f1_score\n",
    "from sklearn.model_selection import GridSearchCV"
   ]
  }
 ],
 "metadata": {
  "kernelspec": {
   "display_name": "Python 3",
   "language": "python",
   "name": "python3"
  },
  "language_info": {
   "codemirror_mode": {
    "name": "ipython",
    "version": 3
   },
   "file_extension": ".py",
   "mimetype": "text/x-python",
   "name": "python",
   "nbconvert_exporter": "python",
   "pygments_lexer": "ipython3",
   "version": "3.6.10"
  }
 },
 "nbformat": 4,
 "nbformat_minor": 4
}
